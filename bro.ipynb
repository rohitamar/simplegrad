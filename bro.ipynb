{
 "cells": [
  {
   "cell_type": "code",
   "execution_count": 69,
   "metadata": {},
   "outputs": [
    {
     "name": "stdout",
     "output_type": "stream",
     "text": [
      "[[ 0  1  2  3  4  5  6]\n",
      " [ 7  8  9 10 11 12 13]\n",
      " [14 15 16 17 18 19 20]\n",
      " [21 22 23 24 25 26 27]\n",
      " [28 29 30 31 32 33 34]\n",
      " [35 36 37 38 39 40 41]\n",
      " [42 43 44 45 46 47 48]]\n",
      "(1, 1, np.int64(5), np.int64(5), 3, 3) (0, 0, 56, 8, 56, 8)\n"
     ]
    }
   ],
   "source": [
    "import numpy as np\n",
    "\n",
    "a = np.arange(7 * 7).reshape(7, 7)\n",
    "print(a)\n",
    "a = a[np.newaxis, :]\n",
    "a = a[np.newaxis, :]\n",
    "kernel_shape = (2, 3, 3)\n",
    "view_shape = a.shape[:-2] + tuple(np.subtract(a.shape[-2:], kernel_shape[-2:]) + 1) + kernel_shape[-2:]\n",
    "strides = a.strides + a.strides[-2:]\n",
    "print(view_shape, strides)\n",
    "sub_matrices = np.lib.stride_tricks.as_strided(a, view_shape, strides)"
   ]
  },
  {
   "cell_type": "code",
   "execution_count": 68,
   "metadata": {},
   "outputs": [
    {
     "ename": "IndentationError",
     "evalue": "expected an indented block after function definition on line 11 (2772960764.py, line 11)",
     "output_type": "error",
     "traceback": [
      "\u001b[1;36m  Cell \u001b[1;32mIn[68], line 11\u001b[1;36m\u001b[0m\n\u001b[1;33m    def conv2d(input, filters):\u001b[0m\n\u001b[1;37m                               ^\u001b[0m\n\u001b[1;31mIndentationError\u001b[0m\u001b[1;31m:\u001b[0m expected an indented block after function definition on line 11\n"
     ]
    }
   ],
   "source": [
    "\n",
    "def convolve(input, kernel):\n",
    "    c = 0\n",
    "    while len(input) < 4:\n",
    "        c += 1\n",
    "        input = input[np.newaxis, :]\n",
    "    submatrices_shape = input.shape[:-2] + tuple(np.subtract(input.shape[-2:], kernel.shape[-2:]) + 1) + kernel.shape[-2:]\n",
    "    strides = input.strides + input.strides[-2:]\n",
    "    sub_matrices = np.lib.stride_tricks.as_strided(input, submatrices_shape, strides)\n",
    "    sub_matrices = np.rollaxis(sub_matrices, 1, 4)\n",
    "\n",
    "    convolved = np.einsum('hwnij,oij->hwo', sub_matrices, kernel)\n",
    "    convolved = np.rollaxis(convolved, 3, 1)\n",
    "    for _ in range(c):\n",
    "        convolved = np.squeeze(convolved)\n",
    "    return convolved\n",
    "\n",
    "def conv2d(input, filters):\n",
    "    return Tensor(\n",
    "        convolve(input.data, filters.data), \n",
    "        []\n",
    "    )"
   ]
  },
  {
   "cell_type": "code",
   "execution_count": 70,
   "metadata": {},
   "outputs": [],
   "source": [
    "kf = np.ones(shape=kernel_shape)"
   ]
  },
  {
   "cell_type": "code",
   "execution_count": 72,
   "metadata": {},
   "outputs": [],
   "source": [
    "sub_matrices = np.rollaxis(sub_matrices, 1, 4)"
   ]
  },
  {
   "cell_type": "code",
   "execution_count": 73,
   "metadata": {},
   "outputs": [],
   "source": [
    "ans = np.einsum('bhwnij,oij->bhwo', sub_matrices, kf)"
   ]
  },
  {
   "cell_type": "code",
   "execution_count": 77,
   "metadata": {},
   "outputs": [],
   "source": [
    "ans = np.rollaxis(ans, 3, 1)"
   ]
  },
  {
   "cell_type": "code",
   "execution_count": null,
   "metadata": {},
   "outputs": [],
   "source": []
  }
 ],
 "metadata": {
  "kernelspec": {
   "display_name": "Python 3",
   "language": "python",
   "name": "python3"
  },
  "language_info": {
   "codemirror_mode": {
    "name": "ipython",
    "version": 3
   },
   "file_extension": ".py",
   "mimetype": "text/x-python",
   "name": "python",
   "nbconvert_exporter": "python",
   "pygments_lexer": "ipython3",
   "version": "3.10.0"
  }
 },
 "nbformat": 4,
 "nbformat_minor": 2
}
