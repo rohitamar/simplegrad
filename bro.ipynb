{
 "cells": [
  {
   "cell_type": "code",
   "execution_count": 8,
   "metadata": {},
   "outputs": [],
   "source": [
    "import numpy as np\n",
    "\n",
    "a = np.arange(7 * 7).reshape(7, 7)\n",
    "\n",
    "sub_shape = (3,3)\n",
    "view_shape = tuple(np.subtract(a.shape, sub_shape) + 1) + sub_shape\n",
    "strides = a.strides + a.strides\n",
    "\n",
    "sub_matrices = np.lib.stride_tricks.as_strided(a,view_shape,strides)"
   ]
  },
  {
   "cell_type": "code",
   "execution_count": 9,
   "metadata": {},
   "outputs": [
    {
     "data": {
      "text/plain": [
       "(np.int64(5), np.int64(5), 3, 3)"
      ]
     },
     "execution_count": 9,
     "metadata": {},
     "output_type": "execute_result"
    }
   ],
   "source": [
    "view_shape"
   ]
  },
  {
   "cell_type": "code",
   "execution_count": 12,
   "metadata": {},
   "outputs": [
    {
     "data": {
      "text/plain": [
       "(56, 8, 56, 8)"
      ]
     },
     "execution_count": 12,
     "metadata": {},
     "output_type": "execute_result"
    }
   ],
   "source": [
    "strides"
   ]
  },
  {
   "cell_type": "code",
   "execution_count": 13,
   "metadata": {},
   "outputs": [
    {
     "data": {
      "text/plain": [
       "array([[[ 0,  1,  2],\n",
       "        [ 7,  8,  9],\n",
       "        [14, 15, 16]],\n",
       "\n",
       "       [[ 1,  2,  3],\n",
       "        [ 8,  9, 10],\n",
       "        [15, 16, 17]],\n",
       "\n",
       "       [[ 2,  3,  4],\n",
       "        [ 9, 10, 11],\n",
       "        [16, 17, 18]],\n",
       "\n",
       "       [[ 3,  4,  5],\n",
       "        [10, 11, 12],\n",
       "        [17, 18, 19]],\n",
       "\n",
       "       [[ 4,  5,  6],\n",
       "        [11, 12, 13],\n",
       "        [18, 19, 20]]])"
      ]
     },
     "execution_count": 13,
     "metadata": {},
     "output_type": "execute_result"
    }
   ],
   "source": [
    "sub_matrices[0]"
   ]
  },
  {
   "cell_type": "code",
   "execution_count": null,
   "metadata": {},
   "outputs": [],
   "source": []
  }
 ],
 "metadata": {
  "kernelspec": {
   "display_name": "Python 3",
   "language": "python",
   "name": "python3"
  },
  "language_info": {
   "codemirror_mode": {
    "name": "ipython",
    "version": 3
   },
   "file_extension": ".py",
   "mimetype": "text/x-python",
   "name": "python",
   "nbconvert_exporter": "python",
   "pygments_lexer": "ipython3",
   "version": "3.10.0"
  }
 },
 "nbformat": 4,
 "nbformat_minor": 2
}
